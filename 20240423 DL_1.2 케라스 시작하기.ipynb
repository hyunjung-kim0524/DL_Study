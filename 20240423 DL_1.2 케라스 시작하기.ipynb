{
 "cells": [
  {
   "cell_type": "markdown",
   "id": "1217c91b-01b8-47f5-98ca-d0d54aca2af1",
   "metadata": {},
   "source": [
    "#### Sequential model 생성하기"
   ]
  },
  {
   "cell_type": "code",
   "execution_count": 5,
   "id": "c1e71c10-37e0-4b07-9648-3d2d38d92e7f",
   "metadata": {},
   "outputs": [],
   "source": [
    "from tensorflow.keras.models import Sequential\n",
    "\n",
    "model = Sequential()"
   ]
  },
  {
   "cell_type": "code",
   "execution_count": 6,
   "id": "e7e5fb1c-a267-4dba-a704-490a4261414b",
   "metadata": {},
   "outputs": [],
   "source": [
    "from tensorflow.keras.layers import Dense  # 신경망의 layer 중 하나\n",
    "                                           # 주요 매개변수\n",
    "                                           # 1. units : 층의 출력차원(뉴런의 수) 지정\n",
    "                                           # 2. activation : 활성화 함수 지정. 일반적으로 'rele','sigmoid','softmax' 등 사용\n",
    "                                           # 3. input_shape : 첫번째 층에만 필요한 매개변수로,입력 데이터의 형태 지정\n",
    "                                           # 4. kernel_initializer : 가중치(weight) 행렬을 초기화 하는 방법 지정\n",
    "                                           # 5. bias_initializer : 편향(bias) 벡터를 초기화 하는 방법 지정\n",
    "\n",
    "model.add(Dense(units=64, activation = 'relu'))\n",
    "model.add(Dense(units=10, activation = 'softmax'))"
   ]
  },
  {
   "cell_type": "markdown",
   "id": "646ea89b-0604-417b-888c-9dd5059e0149",
   "metadata": {},
   "source": [
    "#### Compile 메소드 호출 - 학습과정을 설정함. 모델의 손실함수, 옵티마이저 및 성능지표(주로 정확도(accuracy))를 지정"
   ]
  },
  {
   "cell_type": "code",
   "execution_count": 7,
   "id": "fc6ec66b-f31a-4060-8cbf-dc60508ed323",
   "metadata": {},
   "outputs": [],
   "source": [
    "model.compile(optimizer='adam',  # 가중치를 업데이트하기 위한 최적합 알고리즘(SGD, Adam, RMSprop 등이 일반적으로 많이 사용됨)\n",
    "              loss='sparse_categorical_crosssentropy',  # 모델이 최소화하려는 목적 함수입니다. 예측값과 실제값 간의 차이를 측정하는 함수\n",
    "              metrics=['accuracy'])  # 모델의 성능을 평가하는 데 사용되는 지표"
   ]
  },
  {
   "cell_type": "markdown",
   "id": "45559300-0816-4019-bc99-219de323e951",
   "metadata": {},
   "source": [
    "#### 모델 학습"
   ]
  },
  {
   "cell_type": "code",
   "execution_count": 8,
   "id": "e113db2a-5ca4-4cd2-8ee4-208f7e2d185e",
   "metadata": {},
   "outputs": [
    {
     "ename": "NameError",
     "evalue": "name 'x_train' is not defined",
     "output_type": "error",
     "traceback": [
      "\u001b[1;31m---------------------------------------------------------------------------\u001b[0m",
      "\u001b[1;31mNameError\u001b[0m                                 Traceback (most recent call last)",
      "Cell \u001b[1;32mIn[8], line 1\u001b[0m\n\u001b[1;32m----> 1\u001b[0m model\u001b[38;5;241m.\u001b[39mfit(x_train, y_train, epochs\u001b[38;5;241m=\u001b[39m\u001b[38;5;241m5\u001b[39m)\n",
      "\u001b[1;31mNameError\u001b[0m: name 'x_train' is not defined"
     ]
    }
   ],
   "source": [
    "model.fit(x_train, y_train, epochs=5)"
   ]
  },
  {
   "cell_type": "markdown",
   "id": "db3fe328-399e-44de-8b98-456849c79bc0",
   "metadata": {},
   "source": [
    "#### 모델 평가"
   ]
  },
  {
   "cell_type": "code",
   "execution_count": null,
   "id": "75e65468-5e08-493b-b33e-3aac5ab80887",
   "metadata": {},
   "outputs": [],
   "source": [
    "loss, accuracy = model.evaluate(x_test, y_test)"
   ]
  },
  {
   "cell_type": "markdown",
   "id": "0d6480b9-f5a1-4239-9b88-80ee424b935a",
   "metadata": {},
   "source": [
    "#### 모델 예측 결과 확인"
   ]
  },
  {
   "cell_type": "code",
   "execution_count": null,
   "id": "261dda4a-46cb-4292-85bf-30cba11f1168",
   "metadata": {},
   "outputs": [],
   "source": [
    "predictions=model.predict(x_test)"
   ]
  }
 ],
 "metadata": {
  "kernelspec": {
   "display_name": "Python 3 (ipykernel)",
   "language": "python",
   "name": "python3"
  },
  "language_info": {
   "codemirror_mode": {
    "name": "ipython",
    "version": 3
   },
   "file_extension": ".py",
   "mimetype": "text/x-python",
   "name": "python",
   "nbconvert_exporter": "python",
   "pygments_lexer": "ipython3",
   "version": "3.11.7"
  }
 },
 "nbformat": 4,
 "nbformat_minor": 5
}
