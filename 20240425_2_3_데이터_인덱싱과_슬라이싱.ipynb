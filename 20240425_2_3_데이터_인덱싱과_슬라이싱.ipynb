{
  "nbformat": 4,
  "nbformat_minor": 0,
  "metadata": {
    "colab": {
      "provenance": [],
      "authorship_tag": "ABX9TyMmBKLCWRF9B1/DB8iVDSg2",
      "include_colab_link": true
    },
    "kernelspec": {
      "name": "python3",
      "display_name": "Python 3"
    },
    "language_info": {
      "name": "python"
    }
  },
  "cells": [
    {
      "cell_type": "markdown",
      "metadata": {
        "id": "view-in-github",
        "colab_type": "text"
      },
      "source": [
        "<a href=\"https://colab.research.google.com/github/hyunjung-kim0524/DL_Study/blob/main/20240425_2_3_%EB%8D%B0%EC%9D%B4%ED%84%B0_%EC%9D%B8%EB%8D%B1%EC%8B%B1%EA%B3%BC_%EC%8A%AC%EB%9D%BC%EC%9D%B4%EC%8B%B1.ipynb\" target=\"_parent\"><img src=\"https://colab.research.google.com/assets/colab-badge.svg\" alt=\"Open In Colab\"/></a>"
      ]
    },
    {
      "cell_type": "markdown",
      "source": [
        "데이터 인덱싱"
      ],
      "metadata": {
        "id": "xIrX4z-2Knpa"
      }
    },
    {
      "cell_type": "code",
      "execution_count": 4,
      "metadata": {
        "colab": {
          "base_uri": "https://localhost:8080/"
        },
        "id": "D2QtMCIHJMn1",
        "outputId": "accf0cf9-b230-42d5-d441-dd86c9a203eb"
      },
      "outputs": [
        {
          "output_type": "stream",
          "name": "stdout",
          "text": [
            "0\n",
            "9\n"
          ]
        }
      ],
      "source": [
        "import numpy as np\n",
        "\n",
        "array = np.arange(10)\n",
        "\n",
        "print(array[0])\n",
        "print(array[-1])"
      ]
    },
    {
      "cell_type": "code",
      "source": [
        "array_25 = np.reshape(array,[2,5])\n",
        "print(array_25[0])\n",
        "print(array_25[-1])"
      ],
      "metadata": {
        "colab": {
          "base_uri": "https://localhost:8080/"
        },
        "id": "TB0GCxpMKJIL",
        "outputId": "d84b04ba-8ab2-4249-ff22-83e6bfa8ac61"
      },
      "execution_count": 6,
      "outputs": [
        {
          "output_type": "stream",
          "name": "stdout",
          "text": [
            "[0 1 2 3 4]\n",
            "[5 6 7 8 9]\n"
          ]
        }
      ]
    },
    {
      "cell_type": "markdown",
      "source": [
        "데이터 슬라이싱"
      ],
      "metadata": {
        "id": "D4vfliQPKtEp"
      }
    },
    {
      "cell_type": "code",
      "source": [
        "import numpy as np\n",
        "\n",
        "array_25 = np.reshape(np.arange(10), (2,5))\n",
        "print(array_25)\n",
        "\n",
        "print('\\narray_25[:, 0]: ', array[:, 0])\n",
        "print('\\narray_25[:, 1]: ', array[:, 1])"
      ],
      "metadata": {
        "colab": {
          "base_uri": "https://localhost:8080/"
        },
        "id": "u_QOK39QKwNa",
        "outputId": "bb0abe4a-47e1-4d6e-b01f-60613843a101"
      },
      "execution_count": 8,
      "outputs": [
        {
          "output_type": "stream",
          "name": "stdout",
          "text": [
            "[[0 1 2 3 4]\n",
            " [5 6 7 8 9]]\n"
          ]
        }
      ]
    },
    {
      "cell_type": "code",
      "source": [
        "import numpy as np\n",
        "\n",
        "array = np.arange(24)\n",
        "array = array.reshape(2,3,4)\n",
        "\n",
        "print(\"\\narray shape :\", array.shape)\n",
        "print(\"\\narray[0,0,0] :\", array[0,0,0])\n",
        "print(\"\\narray[1,2,3] :\", array[1,2,3])  # [차원, 행, 렬]"
      ],
      "metadata": {
        "colab": {
          "base_uri": "https://localhost:8080/"
        },
        "id": "vNEu3BgdGhJ_",
        "outputId": "7dbd7930-a08b-480e-9bd5-069a7ca16242"
      },
      "execution_count": 2,
      "outputs": [
        {
          "output_type": "stream",
          "name": "stdout",
          "text": [
            "\n",
            "array shape : (2, 3, 4)\n",
            "\n",
            "array[0,0,0] : 0\n",
            "\n",
            "array[1,2,3] : 23\n"
          ]
        }
      ]
    }
  ]
}