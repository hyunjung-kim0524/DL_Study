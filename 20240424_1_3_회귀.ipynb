{
  "nbformat": 4,
  "nbformat_minor": 0,
  "metadata": {
    "colab": {
      "provenance": [],
      "authorship_tag": "ABX9TyMW02/gVMQHQUHeaNId/YUf",
      "include_colab_link": true
    },
    "kernelspec": {
      "name": "python3",
      "display_name": "Python 3"
    },
    "language_info": {
      "name": "python"
    }
  },
  "cells": [
    {
      "cell_type": "markdown",
      "metadata": {
        "id": "view-in-github",
        "colab_type": "text"
      },
      "source": [
        "<a href=\"https://colab.research.google.com/github/hyunjung-kim0524/DL_Study/blob/main/20240424_1_3_%ED%9A%8C%EA%B7%80.ipynb\" target=\"_parent\"><img src=\"https://colab.research.google.com/assets/colab-badge.svg\" alt=\"Open In Colab\"/></a>"
      ]
    },
    {
      "cell_type": "code",
      "source": [
        "from tensorflow.keras import datasets\n",
        "\n",
        "boston_housing = datasets.boston_housing (x_train, y_train), (x_test, y_test) = boston_housing.load_data()\n",
        "\n",
        "print(\"x_train.shape, y_train.shape : \", x_train.shape, y_train.shape)"
      ],
      "metadata": {
        "id": "JB9SDC8Az9vo"
      },
      "execution_count": null,
      "outputs": []
    },
    {
      "cell_type": "code",
      "source": [
        "from tensorflow.keras.models import Sequential\n",
        "from tensorflow.keras import Input\n",
        "from tensorflow.keras.layers import Dense\n",
        "\n",
        "model = Sequential()\n",
        "\n",
        "model.add(Input(shape=(13,)))\n",
        "model.add(Dense(units=64, activation = 'relu'))\n",
        "model.add(Dense(units=64, activation = 'relu'))\n",
        "model.add(Dense(units=1))\n",
        "\n",
        "model.summary()"
      ],
      "metadata": {
        "colab": {
          "base_uri": "https://localhost:8080/"
        },
        "id": "Rm84hh_pylpN",
        "outputId": "c0f57e42-13be-4a95-f841-7e6233f6571f"
      },
      "execution_count": 17,
      "outputs": [
        {
          "output_type": "stream",
          "name": "stdout",
          "text": [
            "Model: \"sequential\"\n",
            "_________________________________________________________________\n",
            " Layer (type)                Output Shape              Param #   \n",
            "=================================================================\n",
            " dense (Dense)               (None, 64)                896       \n",
            "                                                                 \n",
            " dense_1 (Dense)             (None, 64)                4160      \n",
            "                                                                 \n",
            " dense_2 (Dense)             (None, 1)                 65        \n",
            "                                                                 \n",
            "=================================================================\n",
            "Total params: 5121 (20.00 KB)\n",
            "Trainable params: 5121 (20.00 KB)\n",
            "Non-trainable params: 0 (0.00 Byte)\n",
            "_________________________________________________________________\n"
          ]
        }
      ]
    },
    {
      "cell_type": "code",
      "source": [
        "model.compile(optimizer='RMSprop',\n",
        "                    loss = 'mse',\n",
        "                    metrics=['mae', 'mse'])\n",
        "\n",
        "model.fit(x_train, y_train, validation_split=0.2, epochs =5)"
      ],
      "metadata": {
        "colab": {
          "base_uri": "https://localhost:8080/"
        },
        "id": "oLxjJ_sk0ldP",
        "outputId": "9c7f3122-6a04-4235-f1b9-2dcb533fd802"
      },
      "execution_count": 22,
      "outputs": [
        {
          "output_type": "stream",
          "name": "stdout",
          "text": [
            "Epoch 1/5\n",
            "11/11 [==============================] - 1s 21ms/step - loss: 246.6051 - mae: 10.1471 - mse: 246.6051 - val_loss: 254.3979 - val_mae: 14.8064 - val_mse: 254.3979\n",
            "Epoch 2/5\n",
            "11/11 [==============================] - 0s 5ms/step - loss: 84.5809 - mae: 6.8359 - mse: 84.5809 - val_loss: 100.5086 - val_mae: 8.7546 - val_mse: 100.5086\n",
            "Epoch 3/5\n",
            "11/11 [==============================] - 0s 5ms/step - loss: 159.2114 - mae: 10.2172 - mse: 159.2114 - val_loss: 73.8018 - val_mae: 5.6586 - val_mse: 73.8018\n",
            "Epoch 4/5\n",
            "11/11 [==============================] - 0s 5ms/step - loss: 86.8149 - mae: 7.2654 - mse: 86.8149 - val_loss: 65.5507 - val_mae: 5.4254 - val_mse: 65.5507\n",
            "Epoch 5/5\n",
            "11/11 [==============================] - 0s 5ms/step - loss: 130.8271 - mae: 9.1318 - mse: 130.8271 - val_loss: 247.9016 - val_mae: 13.2626 - val_mse: 247.9016\n"
          ]
        },
        {
          "output_type": "execute_result",
          "data": {
            "text/plain": [
              "<keras.src.callbacks.History at 0x7bc2805d3bb0>"
            ]
          },
          "metadata": {},
          "execution_count": 22
        }
      ]
    },
    {
      "cell_type": "code",
      "source": [
        "loss, mae, mse = model.evaluate(x_test, y_test, verbose=2)\n",
        "\n",
        "print('\\nloss :', loss)\n",
        "print('mae :', mae)\n",
        "print('mse :', mse)"
      ],
      "metadata": {
        "colab": {
          "base_uri": "https://localhost:8080/"
        },
        "id": "vJ5ZQATf1jWT",
        "outputId": "1315b7b4-6076-49f4-ad87-5b3069d74b13"
      },
      "execution_count": 23,
      "outputs": [
        {
          "output_type": "stream",
          "name": "stdout",
          "text": [
            "4/4 - 0s - loss: 244.4895 - mae: 13.2235 - mse: 244.4895 - 25ms/epoch - 6ms/step\n",
            "\n",
            "loss : 244.4895477294922\n",
            "mae : 13.22354507446289\n",
            "mse : 244.4895477294922\n"
          ]
        }
      ]
    },
    {
      "cell_type": "code",
      "source": [
        "predictions = model.predict(x_test)\n",
        "\n",
        "print(predictions[:5])"
      ],
      "metadata": {
        "colab": {
          "base_uri": "https://localhost:8080/"
        },
        "id": "FgVOgqvV2z8Z",
        "outputId": "4a09e557-c506-4832-a4ff-b0e601ab8d2c"
      },
      "execution_count": 27,
      "outputs": [
        {
          "output_type": "stream",
          "name": "stdout",
          "text": [
            "4/4 [==============================] - 0s 3ms/step\n",
            "[[-3.0388312]\n",
            " [10.251315 ]\n",
            " [17.235117 ]\n",
            " [ 7.3356824]\n",
            " [16.759638 ]]\n"
          ]
        }
      ]
    }
  ]
}