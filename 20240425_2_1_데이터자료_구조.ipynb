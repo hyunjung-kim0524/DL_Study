{
  "nbformat": 4,
  "nbformat_minor": 0,
  "metadata": {
    "colab": {
      "provenance": [],
      "authorship_tag": "ABX9TyNWOgNRiJ9iPtNZvALDdt4Q",
      "include_colab_link": true
    },
    "kernelspec": {
      "name": "python3",
      "display_name": "Python 3"
    },
    "language_info": {
      "name": "python"
    }
  },
  "cells": [
    {
      "cell_type": "markdown",
      "metadata": {
        "id": "view-in-github",
        "colab_type": "text"
      },
      "source": [
        "<a href=\"https://colab.research.google.com/github/hyunjung-kim0524/DL_Study/blob/main/20240425_2_1_%EB%8D%B0%EC%9D%B4%ED%84%B0%EC%9E%90%EB%A3%8C_%EA%B5%AC%EC%A1%B0.ipynb\" target=\"_parent\"><img src=\"https://colab.research.google.com/assets/colab-badge.svg\" alt=\"Open In Colab\"/></a>"
      ]
    },
    {
      "cell_type": "markdown",
      "source": [
        "Scalar : 하나의 정수나 실수를 갖는 값"
      ],
      "metadata": {
        "id": "qyTpsmtp-_ZP"
      }
    },
    {
      "cell_type": "code",
      "source": [
        "import tensorflow as tf\n",
        "\n",
        "scalar_cm = tf.constant(183)  # tf.constant : 상수 텐서를 생성하는 함수. 숫자형, 문자형, 배열 모두 사용 가능\n",
        "scalar_kg = tf.constant(89)\n",
        "scalar_bmi = tf.constant(26.58)\n",
        "\n",
        "# 텐서 출력\n",
        "print(scalar_cm)\n",
        "print(scalar_kg)\n",
        "print(scalar_bmi)\n",
        "\n",
        "# 0차원 텐서를 numpy 함수로 변환\n",
        "scalar_numpy = scalar_cm.numpy()\n",
        "\n",
        "print(scalar_numpy)\n",
        "type(scalar_numpy)"
      ],
      "metadata": {
        "colab": {
          "base_uri": "https://localhost:8080/"
        },
        "id": "tRSSgO3t_7Cw",
        "outputId": "9e64a578-ab23-4a55-e7e7-76e17513ac36"
      },
      "execution_count": 2,
      "outputs": [
        {
          "output_type": "stream",
          "name": "stdout",
          "text": [
            "tf.Tensor(183, shape=(), dtype=int32)\n",
            "tf.Tensor(89, shape=(), dtype=int32)\n",
            "tf.Tensor(26.58, shape=(), dtype=float32)\n",
            "183\n"
          ]
        },
        {
          "output_type": "execute_result",
          "data": {
            "text/plain": [
              "numpy.int32"
            ]
          },
          "metadata": {},
          "execution_count": 2
        }
      ]
    },
    {
      "cell_type": "markdown",
      "source": [
        "벡터 : 크기와 방향을 가지는 값. 1차원 배열로 생성됨"
      ],
      "metadata": {
        "id": "Pa6qyUKpBh4_"
      }
    },
    {
      "cell_type": "code",
      "source": [
        "import tensorflow as tf\n",
        "\n",
        "# 벡터 텐서 출력\n",
        "vector = tf.constant([183 ,89, 26.58])\n",
        "print(vector)\n",
        "\n",
        "# numpy 변환\n",
        "vector_numpy = vector.numpy()\n",
        "\n",
        "print(vector_numpy)\n",
        "type(vector_numpy)"
      ],
      "metadata": {
        "colab": {
          "base_uri": "https://localhost:8080/"
        },
        "id": "8baqA8tvBwmX",
        "outputId": "b6a47bb3-0097-4b2a-bbf0-fe862e9eeef9"
      },
      "execution_count": 4,
      "outputs": [
        {
          "output_type": "stream",
          "name": "stdout",
          "text": [
            "tf.Tensor([183.    89.    26.58], shape=(3,), dtype=float32)\n",
            "[183.    89.    26.58]\n"
          ]
        },
        {
          "output_type": "execute_result",
          "data": {
            "text/plain": [
              "numpy.ndarray"
            ]
          },
          "metadata": {},
          "execution_count": 4
        }
      ]
    },
    {
      "cell_type": "markdown",
      "source": [
        "행렬 : 행과 열을 가진 2차원 배열"
      ],
      "metadata": {
        "id": "EafQgXtHWDQ-"
      }
    },
    {
      "cell_type": "code",
      "source": [
        "import tensorflow as tf\n",
        "\n",
        "matrix=tf.constant([[182, 99, 29.89],\n",
        "                   [183, 89, 26.58]])\n",
        "\n",
        "print(matrix)\n",
        "\n",
        "matrix_numpy = matrix.numpy()\n",
        "\n",
        "print(matrix_numpy)\n",
        "type(matrix_numpy)"
      ],
      "metadata": {
        "colab": {
          "base_uri": "https://localhost:8080/"
        },
        "id": "yc-MeaQkWWf3",
        "outputId": "6a4c346b-6943-4bcf-dabc-ed75c03fed81"
      },
      "execution_count": 8,
      "outputs": [
        {
          "output_type": "stream",
          "name": "stdout",
          "text": [
            "tf.Tensor(\n",
            "[[182.    99.    29.89]\n",
            " [183.    89.    26.58]], shape=(2, 3), dtype=float32)\n",
            "[[182.    99.    29.89]\n",
            " [183.    89.    26.58]]\n"
          ]
        },
        {
          "output_type": "execute_result",
          "data": {
            "text/plain": [
              "numpy.ndarray"
            ]
          },
          "metadata": {},
          "execution_count": 8
        }
      ]
    },
    {
      "cell_type": "markdown",
      "source": [
        "텐서 : 축이 3개 이상인 데이터 구조"
      ],
      "metadata": {
        "id": "wFiDyXaWW6PY"
      }
    },
    {
      "cell_type": "code",
      "source": [
        "import tensorflow as tf\n",
        "\n",
        "tensor = tf.constant([\n",
        "    [[183, 94, 29.07], [183, 89, 26.58]],\n",
        "    [[182, 86, 25.68], [183, 87, 25.98]],\n",
        "    [[183, 97, 28.07], [183, 99, 29.56]],\n",
        "    [[183, 100, 29.86], [183, 96, 28.67]],\n",
        "])\n",
        "\n",
        "print(tensor)\n",
        "\n",
        "tensor_numpy = tensor.numpy()\n",
        "\n",
        "print(tensor_numpy)\n",
        "type(tensor_numpy)"
      ],
      "metadata": {
        "colab": {
          "base_uri": "https://localhost:8080/"
        },
        "id": "QbQh8iTsXYHv",
        "outputId": "7eb2a421-edbf-4732-d7a1-c06495847432"
      },
      "execution_count": 11,
      "outputs": [
        {
          "output_type": "stream",
          "name": "stdout",
          "text": [
            "tf.Tensor(\n",
            "[[[183.    94.    29.07]\n",
            "  [183.    89.    26.58]]\n",
            "\n",
            " [[182.    86.    25.68]\n",
            "  [183.    87.    25.98]]\n",
            "\n",
            " [[183.    97.    28.07]\n",
            "  [183.    99.    29.56]]\n",
            "\n",
            " [[183.   100.    29.86]\n",
            "  [183.    96.    28.67]]], shape=(4, 2, 3), dtype=float32)\n",
            "[[[183.    94.    29.07]\n",
            "  [183.    89.    26.58]]\n",
            "\n",
            " [[182.    86.    25.68]\n",
            "  [183.    87.    25.98]]\n",
            "\n",
            " [[183.    97.    28.07]\n",
            "  [183.    99.    29.56]]\n",
            "\n",
            " [[183.   100.    29.86]\n",
            "  [183.    96.    28.67]]]\n"
          ]
        },
        {
          "output_type": "execute_result",
          "data": {
            "text/plain": [
              "numpy.ndarray"
            ]
          },
          "metadata": {},
          "execution_count": 11
        }
      ]
    },
    {
      "cell_type": "markdown",
      "source": [],
      "metadata": {
        "id": "HVd-30ZXWNri"
      }
    }
  ]
}