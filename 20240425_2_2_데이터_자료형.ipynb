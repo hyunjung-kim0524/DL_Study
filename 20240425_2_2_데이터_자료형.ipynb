{
  "nbformat": 4,
  "nbformat_minor": 0,
  "metadata": {
    "colab": {
      "provenance": [],
      "authorship_tag": "ABX9TyOtqkHSnMP4uXZ4IqU7k4Pb",
      "include_colab_link": true
    },
    "kernelspec": {
      "name": "python3",
      "display_name": "Python 3"
    },
    "language_info": {
      "name": "python"
    }
  },
  "cells": [
    {
      "cell_type": "markdown",
      "metadata": {
        "id": "view-in-github",
        "colab_type": "text"
      },
      "source": [
        "<a href=\"https://colab.research.google.com/github/hyunjung-kim0524/DL_Study/blob/main/20240425_2_2_%EB%8D%B0%EC%9D%B4%ED%84%B0_%EC%9E%90%EB%A3%8C%ED%98%95.ipynb\" target=\"_parent\"><img src=\"https://colab.research.google.com/assets/colab-badge.svg\" alt=\"Open In Colab\"/></a>"
      ]
    },
    {
      "cell_type": "markdown",
      "source": [
        "데이터 자료형 - 벡터를 1차원 텐서로 변환"
      ],
      "metadata": {
        "id": "OEwnIyuP-DeS"
      }
    },
    {
      "cell_type": "code",
      "execution_count": 3,
      "metadata": {
        "colab": {
          "base_uri": "https://localhost:8080/"
        },
        "id": "eoWa92-79b3E",
        "outputId": "682613d3-e937-49c6-e1a7-3e9bbdc73dd1"
      },
      "outputs": [
        {
          "output_type": "stream",
          "name": "stdout",
          "text": [
            "tf.Tensor([183.    89.    26.58], shape=(3,), dtype=float64)\n",
            "tf.Tensor([183.    89.    26.58], shape=(3,), dtype=float32)\n",
            "tf.Tensor([183.    89.    26.58], shape=(3,), dtype=float16)\n",
            "tf.Tensor([183  89  26], shape=(3,), dtype=uint8)\n"
          ]
        }
      ],
      "source": [
        "import tensorflow as tf\n",
        "\n",
        "vector_float64 = tf.constant([183,89,26.58], dtype=tf.float64)\n",
        "vector_float32 = tf.constant([183,89,26.58], dtype=tf.float32)\n",
        "vector_float16 = tf.constant([183,89,26.58], dtype=tf.float16)\n",
        "\n",
        "vector_uint8 = tf.cast(vector_float64, dtype=tf.uint8)  # 실수형 데이터가 정수형으로 변경됨\n",
        "\n",
        "print(vector_float64)\n",
        "print(vector_float32)\n",
        "print(vector_float16)\n",
        "print(vector_uint8)\n"
      ]
    },
    {
      "cell_type": "code",
      "source": [
        "import numpy as np\n",
        "\n",
        "vector_float64 = np.array([183, 89, 26.58], dtype = np.float64)\n",
        "vector_float32 = vector_float64.astype('float32')\n",
        "vector_float16 = vector_float64.astype('float16')\n",
        "\n",
        "vector_uint8 = vector_float64.astype('uint8')      # 실수형 데이터가 정수형으로 변경됨\n",
        "\n",
        "print(vector_float64, vector_float64.dtype.type(vector_float64))\n",
        "print(vector_float32, vector_float32.dtype.type(vector_float64))\n",
        "print(vector_float16, vector_float16.dtype.type(vector_float64))\n",
        "print(vector_uint8, vector_uint8.dtype.type(vector_float64))"
      ],
      "metadata": {
        "colab": {
          "base_uri": "https://localhost:8080/"
        },
        "id": "oxRFgJNk-RPB",
        "outputId": "fca6cdd6-8b08-4872-81ba-7afa65fe21f3"
      },
      "execution_count": 5,
      "outputs": [
        {
          "output_type": "stream",
          "name": "stdout",
          "text": [
            "[183.    89.    26.58] [183.    89.    26.58]\n",
            "[183.    89.    26.58] [183.    89.    26.58]\n",
            "[183.    89.    26.58] [183.    89.    26.58]\n",
            "[183  89  26] [183  89  26]\n"
          ]
        }
      ]
    },
    {
      "cell_type": "markdown",
      "source": [
        "데이터 형상 변경"
      ],
      "metadata": {
        "id": "D9go_59JBb_2"
      }
    },
    {
      "cell_type": "code",
      "source": [
        "import numpy as np\n",
        "\n",
        "array = np.arange(10)  # 0 ~ 9까지의 배열로 생성\n",
        "\n",
        "print(array)\n",
        "print(\"array.ndim :\", array.ndim)  # 배열의 차원 출력\n",
        "print(\"array.shape :\", array.shape)   # 배열의 형상 출력"
      ],
      "metadata": {
        "colab": {
          "base_uri": "https://localhost:8080/"
        },
        "id": "qpMFMf-ZBfU6",
        "outputId": "a5070fe6-c21e-4d5b-b4b8-3b7904af82ff"
      },
      "execution_count": 9,
      "outputs": [
        {
          "output_type": "stream",
          "name": "stdout",
          "text": [
            "[0 1 2 3 4 5 6 7 8 9]\n",
            "array.ndim : 1\n",
            "array.shape : (10,)\n"
          ]
        }
      ]
    },
    {
      "cell_type": "code",
      "source": [
        "# 2차원으로 형상 변경하기 : reshape\n",
        "\n",
        "array_25 = np.reshape(array,(2,5))\n",
        "array_52 = np.reshape(array,(5, 2))\n",
        "\n",
        "print(array_25)\n",
        "print(\"array.ndim :\", array_25.ndim)  # 배열의 차원 출력\n",
        "print(\"array.shape :\", array_25.shape)   # 배열의 형상 출력\n",
        "\n",
        "print('\\n')\n",
        "print(array_52)\n",
        "print(\"array.ndim :\", array_52.ndim)  # 배열의 차원 출력\n",
        "print(\"array.shape :\", array_52.shape)   # 배열의 형상 출력"
      ],
      "metadata": {
        "colab": {
          "base_uri": "https://localhost:8080/"
        },
        "id": "_3o_HUUvCvIK",
        "outputId": "bfaca2d1-7b7a-4fb1-94c5-7b9d68ad1b26"
      },
      "execution_count": 11,
      "outputs": [
        {
          "output_type": "stream",
          "name": "stdout",
          "text": [
            "[[0 1 2 3 4]\n",
            " [5 6 7 8 9]]\n",
            "array.ndim : 2\n",
            "array.shape : (2, 5)\n",
            "\n",
            "\n",
            "[[0 1]\n",
            " [2 3]\n",
            " [4 5]\n",
            " [6 7]\n",
            " [8 9]]\n",
            "array.ndim : 2\n",
            "array.shape : (5, 2)\n"
          ]
        }
      ]
    },
    {
      "cell_type": "code",
      "source": [
        "# 3차원으로 형상 변경하기 : reshape\n",
        "\n",
        "array = np.arange(0,24,1) # 0 부터 24까지 1간격으로 배열 생성\n",
        "\n",
        "print(array)\n",
        "print(\"array.ndim :\", array.ndim)  # 배열의 차원 출력\n",
        "print(\"array.shape :\", array.shape)   # 배열의 형상 출력\n",
        "\n",
        "array = array.reshape(4,3,2)  # 3X2의 배열을 4개 생성\n",
        "\n",
        "print('\\n')\n",
        "print(array)\n",
        "print(\"array.ndim :\", array.ndim)  # 배열의 차원 출력\n",
        "print(\"array.shape :\", array.shape)   # 배열의 형상 출력"
      ],
      "metadata": {
        "colab": {
          "base_uri": "https://localhost:8080/"
        },
        "id": "ejBL1plxD5BL",
        "outputId": "42dbfb7b-d409-47c5-b0ee-270dde1f453c"
      },
      "execution_count": 14,
      "outputs": [
        {
          "output_type": "stream",
          "name": "stdout",
          "text": [
            "[ 0  1  2  3  4  5  6  7  8  9 10 11 12 13 14 15 16 17 18 19 20 21 22 23]\n",
            "array.ndim : 1\n",
            "array.shape : (24,)\n",
            "\n",
            "\n",
            "[[[ 0  1]\n",
            "  [ 2  3]\n",
            "  [ 4  5]]\n",
            "\n",
            " [[ 6  7]\n",
            "  [ 8  9]\n",
            "  [10 11]]\n",
            "\n",
            " [[12 13]\n",
            "  [14 15]\n",
            "  [16 17]]\n",
            "\n",
            " [[18 19]\n",
            "  [20 21]\n",
            "  [22 23]]]\n",
            "array.ndim : 3\n",
            "array.shape : (4, 3, 2)\n"
          ]
        }
      ]
    },
    {
      "cell_type": "code",
      "source": [
        "import numpy as np\n",
        "\n",
        "array = np.zeros((5,5))\n",
        "array[:, 2] = 255  # 2열을 255로 변경.. 이미지를 숫자형태의 데이터셋으로 변경할때 0부터 255로 표현하\n",
        "\n",
        "print(array)\n",
        "print(array.shape)\n",
        "\n",
        "\n",
        "# 하나의 특성을 가지는 이미지를 딥러닝 모델에 입력하기 위하여 1차원 배열(벡터)로 변환\n",
        "array.reshape(-1)  # 원본 데이터 변경\n",
        "print('array.flatten : \\n', array.flatten())  # 복사한 데이터만 변경. 주어진 배열의 복사본을 반환\n",
        "print('array.ravel : \\n', array.ravel())  # 원본 데이터 변경"
      ],
      "metadata": {
        "colab": {
          "base_uri": "https://localhost:8080/"
        },
        "id": "tjEiPCHdF944",
        "outputId": "973fabb7-6a8f-4ccc-a132-425a11b619ce"
      },
      "execution_count": 20,
      "outputs": [
        {
          "output_type": "stream",
          "name": "stdout",
          "text": [
            "[[  0.   0. 255.   0.   0.]\n",
            " [  0.   0. 255.   0.   0.]\n",
            " [  0.   0. 255.   0.   0.]\n",
            " [  0.   0. 255.   0.   0.]\n",
            " [  0.   0. 255.   0.   0.]]\n",
            "(5, 5)\n",
            "array.flatten : \n",
            " [  0.   0. 255.   0.   0.   0.   0. 255.   0.   0.   0.   0. 255.   0.\n",
            "   0.   0.   0. 255.   0.   0.   0.   0. 255.   0.   0.]\n",
            "array.ravel : \n",
            " [  0.   0. 255.   0.   0.   0.   0. 255.   0.   0.   0.   0. 255.   0.\n",
            "   0.   0.   0. 255.   0.   0.   0.   0. 255.   0.   0.]\n"
          ]
        }
      ]
    }
  ]
}