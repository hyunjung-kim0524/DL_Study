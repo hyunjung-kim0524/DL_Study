{
  "nbformat": 4,
  "nbformat_minor": 0,
  "metadata": {
    "colab": {
      "provenance": [],
      "authorship_tag": "ABX9TyNYMagh8kHlJ7Ps9AL0DitA",
      "include_colab_link": true
    },
    "kernelspec": {
      "name": "python3",
      "display_name": "Python 3"
    },
    "language_info": {
      "name": "python"
    }
  },
  "cells": [
    {
      "cell_type": "markdown",
      "metadata": {
        "id": "view-in-github",
        "colab_type": "text"
      },
      "source": [
        "<a href=\"https://colab.research.google.com/github/hyunjung-kim0524/DL_Study/blob/main/20240425_2_2_%EB%8D%B0%EC%9D%B4%ED%84%B0_%EC%9E%90%EB%A3%8C%ED%98%95.ipynb\" target=\"_parent\"><img src=\"https://colab.research.google.com/assets/colab-badge.svg\" alt=\"Open In Colab\"/></a>"
      ]
    },
    {
      "cell_type": "markdown",
      "source": [
        "데이터 자료형 - 벡터를 1차원 텐서로 변환"
      ],
      "metadata": {
        "id": "OEwnIyuP-DeS"
      }
    },
    {
      "cell_type": "code",
      "execution_count": 3,
      "metadata": {
        "colab": {
          "base_uri": "https://localhost:8080/"
        },
        "id": "eoWa92-79b3E",
        "outputId": "682613d3-e937-49c6-e1a7-3e9bbdc73dd1"
      },
      "outputs": [
        {
          "output_type": "stream",
          "name": "stdout",
          "text": [
            "tf.Tensor([183.    89.    26.58], shape=(3,), dtype=float64)\n",
            "tf.Tensor([183.    89.    26.58], shape=(3,), dtype=float32)\n",
            "tf.Tensor([183.    89.    26.58], shape=(3,), dtype=float16)\n",
            "tf.Tensor([183  89  26], shape=(3,), dtype=uint8)\n"
          ]
        }
      ],
      "source": [
        "import tensorflow as tf\n",
        "\n",
        "vector_float64 = tf.constant([183,89,26.58], dtype=tf.float64)\n",
        "vector_float32 = tf.constant([183,89,26.58], dtype=tf.float32)\n",
        "vector_float16 = tf.constant([183,89,26.58], dtype=tf.float16)\n",
        "\n",
        "vector_uint8 = tf.cast(vector_float64, dtype=tf.uint8)  # 실수형 데이터가 정수형으로 변경됨\n",
        "\n",
        "print(vector_float64)\n",
        "print(vector_float32)\n",
        "print(vector_float16)\n",
        "print(vector_uint8)\n"
      ]
    },
    {
      "cell_type": "code",
      "source": [
        "import numpy as np\n",
        "\n",
        "vector_float64 = np.array([183, 89, 26.58], dtype = np.float64)\n",
        "vector_float32 = vector_float64.astype('float32')\n",
        "vector_float16 = vector_float64.astype('float16')\n",
        "\n",
        "vector_uint8 = vector_float64.astype('uint8')      # 실수형 데이터가 정수형으로 변경됨\n",
        "\n",
        "print(vector_float64, vector_float64.dtype.type(vector_float64))\n",
        "print(vector_float32, vector_float32.dtype.type(vector_float64))\n",
        "print(vector_float16, vector_float16.dtype.type(vector_float64))\n",
        "print(vector_uint8, vector_uint8.dtype.type(vector_float64))"
      ],
      "metadata": {
        "colab": {
          "base_uri": "https://localhost:8080/"
        },
        "id": "oxRFgJNk-RPB",
        "outputId": "fca6cdd6-8b08-4872-81ba-7afa65fe21f3"
      },
      "execution_count": 5,
      "outputs": [
        {
          "output_type": "stream",
          "name": "stdout",
          "text": [
            "[183.    89.    26.58] [183.    89.    26.58]\n",
            "[183.    89.    26.58] [183.    89.    26.58]\n",
            "[183.    89.    26.58] [183.    89.    26.58]\n",
            "[183  89  26] [183  89  26]\n"
          ]
        }
      ]
    },
    {
      "cell_type": "markdown",
      "source": [
        "데이터 형상 변경"
      ],
      "metadata": {
        "id": "D9go_59JBb_2"
      }
    },
    {
      "cell_type": "code",
      "source": [
        "import numpy as np\n",
        "\n",
        "array = np.arange(10)  # 0 ~ 9까지의 배열로 생성\n",
        "\n",
        "print(array)\n",
        "print(\"array.ndim :\", array.ndim)  # 배열의 차원 출력\n",
        "print(\"array.shape :\", array.shape)   # 배열의 형상 출력"
      ],
      "metadata": {
        "colab": {
          "base_uri": "https://localhost:8080/"
        },
        "id": "qpMFMf-ZBfU6",
        "outputId": "a5070fe6-c21e-4d5b-b4b8-3b7904af82ff"
      },
      "execution_count": 9,
      "outputs": [
        {
          "output_type": "stream",
          "name": "stdout",
          "text": [
            "[0 1 2 3 4 5 6 7 8 9]\n",
            "array.ndim : 1\n",
            "array.shape : (10,)\n"
          ]
        }
      ]
    }
  ]
}