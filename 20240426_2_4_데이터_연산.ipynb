{
  "nbformat": 4,
  "nbformat_minor": 0,
  "metadata": {
    "colab": {
      "provenance": [],
      "authorship_tag": "ABX9TyOSlRQMxs17+MTbjppAotmD",
      "include_colab_link": true
    },
    "kernelspec": {
      "name": "python3",
      "display_name": "Python 3"
    },
    "language_info": {
      "name": "python"
    }
  },
  "cells": [
    {
      "cell_type": "markdown",
      "metadata": {
        "id": "view-in-github",
        "colab_type": "text"
      },
      "source": [
        "<a href=\"https://colab.research.google.com/github/hyunjung-kim0524/DL_Study/blob/main/20240426_2_4_%EB%8D%B0%EC%9D%B4%ED%84%B0_%EC%97%B0%EC%82%B0.ipynb\" target=\"_parent\"><img src=\"https://colab.research.google.com/assets/colab-badge.svg\" alt=\"Open In Colab\"/></a>"
      ]
    },
    {
      "cell_type": "markdown",
      "source": [
        "데이터 연산"
      ],
      "metadata": {
        "id": "WMXac6FaIWN4"
      }
    },
    {
      "cell_type": "code",
      "source": [
        "import numpy as np\n",
        "\n",
        "vector_a = [1,2]\n",
        "vector_b = [3,4]\n",
        "\n",
        "print(\"vector_a :\", vector_a)\n",
        "print(\"vector_b :\", vector_b)\n",
        "\n",
        "print(\"vector_a + vector_b :\", np.add(vector_a, vector_b))\n",
        "print(\"vector_a - vector_b :\", np.subtract(vector_a, vector_b))\n",
        "print(\"vector_a * vector_b :\", np.multiply(vector_a, vector_b))\n",
        "print(\"vector_a / vector_b :\", np.divide(vector_a, vector_b))"
      ],
      "metadata": {
        "colab": {
          "base_uri": "https://localhost:8080/"
        },
        "id": "cjJSOUmkIgF9",
        "outputId": "6b0a7079-3b37-4d5a-d498-b9bb6dc83496"
      },
      "execution_count": 6,
      "outputs": [
        {
          "output_type": "stream",
          "name": "stdout",
          "text": [
            "vector_a : [1, 2]\n",
            "vector_b : [3, 4]\n",
            "vector_a + vector_b : [4 6]\n",
            "vector_a - vector_b : [-2 -2]\n",
            "vector_a * vector_b : [3 8]\n",
            "vector_a / vector_b : [0.33333333 0.5       ]\n"
          ]
        }
      ]
    },
    {
      "cell_type": "code",
      "source": [
        "matrix_a = np.arange(1,5).reshape(2,2)\n",
        "matrix_b = np.arange(5,9).reshape(2,2)\n",
        "\n",
        "print(\"matrix_a :\", matrix_a, sep='\\n')\n",
        "print(\"\\nmatrix_b :\", matrix_b, sep='\\n')\n",
        "\n",
        "print(\"\\nmatrix_a + matrix_b :\", np.add(matrix_a, matrix_b), sep='\\n')\n",
        "print(\"\\nmatrix_a - matrix_b :\", np.subtract(matrix_a, matrix_b), sep='\\n')\n",
        "print(\"\\nmatrix_a * matrix_b :\", np.multiply(matrix_a, matrix_b), sep='\\n')\n",
        "print(\"\\nmatrix_a / matrix_b :\", np.divide(matrix_a, matrix_b), sep='\\n')"
      ],
      "metadata": {
        "colab": {
          "base_uri": "https://localhost:8080/"
        },
        "id": "sFeTPPZ9J9vW",
        "outputId": "3252e2fb-24d6-4648-9525-281c545e313a"
      },
      "execution_count": 12,
      "outputs": [
        {
          "output_type": "stream",
          "name": "stdout",
          "text": [
            "matrix_a :\n",
            "[[1 2]\n",
            " [3 4]]\n",
            "\n",
            "matrix_b :\n",
            "[[5 6]\n",
            " [7 8]]\n",
            "\n",
            "matrix_a + matrix_b :\n",
            "[[ 6  8]\n",
            " [10 12]]\n",
            "\n",
            "matrix_a - matrix_b :\n",
            "[[-4 -4]\n",
            " [-4 -4]]\n",
            "\n",
            "matrix_a * matrix_b :\n",
            "[[ 5 12]\n",
            " [21 32]]\n",
            "\n",
            "matrix_a / matrix_b :\n",
            "[[0.2        0.33333333]\n",
            " [0.42857143 0.5       ]]\n"
          ]
        }
      ]
    },
    {
      "cell_type": "code",
      "source": [
        "vector_a = np.arange(1, 10, 3)  # 1 ~ 10까지 3개 차이만큼 vector 생성\n",
        "vector_b = np.arange(1, 10, 4)\n",
        "\n",
        "print(\"vector_a : \", vector_a, sep='\\n')\n",
        "print(\"vector_b : \", vector_b, sep='\\n')\n",
        "\n",
        "print(\"vector_a == vector_b : \", vector_a == vector_b, sep='\\n')\n",
        "print(\"vector_a < vector_b : \", vector_a < vector_b, sep='\\n')\n",
        "print(\"vector_a > vector_b : \", vector_a > vector_b, sep='\\n')"
      ],
      "metadata": {
        "colab": {
          "base_uri": "https://localhost:8080/"
        },
        "id": "2ZRn62gWK-HY",
        "outputId": "8c841a58-4d45-4c73-f823-a2b93e083eeb"
      },
      "execution_count": 15,
      "outputs": [
        {
          "output_type": "stream",
          "name": "stdout",
          "text": [
            "vector_a : \n",
            "[1 4 7]\n",
            "vector_b : \n",
            "[1 5 9]\n",
            "vector_a == vector_b : \n",
            "[ True False False]\n",
            "vector_a < vector_b : \n",
            "[False  True  True]\n",
            "vector_a > vector_b : \n",
            "[False False False]\n"
          ]
        }
      ]
    },
    {
      "cell_type": "code",
      "source": [
        "import numpy as np\n",
        "\n",
        "vector_nan = np.empty((2, 2))\n",
        "\n",
        "print(vector_nan)\n",
        "print(np.isnan(vector_nan))\n",
        "\n",
        "# 두번째 열을 null 값으로 대체함\n",
        "\n",
        "vector_nan[:, 1] = np.nan\n",
        "\n",
        "print(vector_nan)\n",
        "print(np.isnan(vector_nan))"
      ],
      "metadata": {
        "colab": {
          "base_uri": "https://localhost:8080/"
        },
        "id": "7ZQpxXU5MokR",
        "outputId": "4c64dd61-2f75-474e-e597-353666ef237d"
      },
      "execution_count": 4,
      "outputs": [
        {
          "output_type": "stream",
          "name": "stdout",
          "text": [
            "[[4.89141778e-310 0.00000000e+000]\n",
            " [0.00000000e+000 0.00000000e+000]]\n",
            "[[False False]\n",
            " [False False]]\n",
            "[[4.89141778e-310             nan]\n",
            " [0.00000000e+000             nan]]\n",
            "[[False  True]\n",
            " [False  True]]\n"
          ]
        }
      ]
    },
    {
      "cell_type": "code",
      "source": [
        "import numpy as np\n",
        "\n",
        "a=1\n",
        "b=2\n",
        "\n",
        "# scalar 곱하기\n",
        "print(\"scalar 곱하기 : \", np.multiply(a,b))\n",
        "\n",
        "# 행렬 곱하기\n",
        "print(\"scalar 행렬 곱하기 :\", np.dot(a,b))\n",
        "\n",
        "a=np.arange(1,3)\n",
        "b=np.arange(1,3)\n",
        "\n",
        "print(\"\\na : \",a)\n",
        "print(\"\\nb : \",b)\n",
        "\n",
        "# 벡터의 곱셈 : (1*1) + (2*2) = 5.\n",
        "# 벡터의 곱 : (1*1, 2*2) = (1,4)\n",
        "print(\"\\n벡터의 곳셈 : \", np.multiply(a,b)) # 벡터 곱셈\n",
        "print(\"\\n벡터의 곱 : \", np.dot(a,b)) # 벡터 곱"
      ],
      "metadata": {
        "colab": {
          "base_uri": "https://localhost:8080/"
        },
        "id": "sogjM1EalVvg",
        "outputId": "e4f85656-4bf6-44ab-818f-de6164dbee4f"
      },
      "execution_count": 15,
      "outputs": [
        {
          "output_type": "stream",
          "name": "stdout",
          "text": [
            "scalar 곱하기 :  2\n",
            "scalar 행렬 곱하기 : 2\n",
            "\n",
            "a :  [1 2]\n",
            "\n",
            "b :  [1 2]\n",
            "\n",
            "벡터의 곳셈 :  [1 4]\n",
            "\n",
            "행렬의 곱 :  5\n"
          ]
        }
      ]
    },
    {
      "cell_type": "code",
      "source": [
        "import numpy as np\n",
        "\n",
        "a = np.arange(1,5).reshape(2,2)\n",
        "b = np.arange(1,5).reshape(2,2)\n",
        "\n",
        "print(\"a : \", a, sep='\\n')\n",
        "print(\"\\nb : \", b, sep='\\n')\n",
        "\n",
        "print(\"\\na * b 곱셈 : \", np.multiply(a, b), sep='\\n')\n",
        "print(\"\\na * b 곱 : \", np.dot(a, b), sep='\\n')"
      ],
      "metadata": {
        "colab": {
          "base_uri": "https://localhost:8080/"
        },
        "id": "XP7VuCmMopD7",
        "outputId": "44c27e22-50ab-49b4-f0b7-9df5d1cde0b0"
      },
      "execution_count": 19,
      "outputs": [
        {
          "output_type": "stream",
          "name": "stdout",
          "text": [
            "a : \n",
            "[[1 2]\n",
            " [3 4]]\n",
            "\n",
            "b : \n",
            "[[1 2]\n",
            " [3 4]]\n",
            "\n",
            "a * b 곱셈 : \n",
            "[[ 1  4]\n",
            " [ 9 16]]\n",
            "\n",
            "a * b 곱 : \n",
            "[[ 7 10]\n",
            " [15 22]]\n"
          ]
        }
      ]
    },
    {
      "cell_type": "code",
      "source": [
        "# 브로드캐스팅 : 다른 형상을 가진 배열간의 연산. 더 작은 배열을 자동으로 더 큰 배열의 형상에 맞게 확장시켜 연산을 수행\n",
        "\n",
        "import numpy as np\n",
        "\n",
        "a = np.arange(1,5)\n",
        "b = np.arange(1,3)\n",
        "\n",
        "print(\"a : \", a, sep='\\n')\n",
        "print(\"\\nb : \", b, sep='\\n')\n",
        "\n",
        "\n",
        "# print(np.add(a,b))  ---> 두 베열의 크기가 동일하지 않아 브로드캐스팅이 되지 않음. 배열간의 연산이 불가능함\n",
        "\n",
        "#브로드캐스팅이 가능한 경우\n",
        "# 1. 행렬 * 스칼라\n",
        "a = np.arange(1,7).reshape(2,3) # 행렬 (2x3)\n",
        "b = 1                           # 스칼라\n",
        "print('a', a, sep='\\n')\n",
        "print('\\n a + 1', a + b, sep='\\n')\n",
        "\n",
        "\n",
        "# 2. 행렬 * 행렬\n",
        " #    2.1 행렬의 축 하나가 1차원인 경우(2*3, 1*2)\n",
        "a = np.arange(1,7).reshape(2,3) # 행렬 (2x3)\n",
        "b = np.arange(1,4).reshape(1,3) # 행렬 (1x3)\n",
        "c = np.arange(1,3).reshape(2,1) # 행렬 (2x1)\n",
        "\n",
        "print('a', a, sep='\\n')\n",
        "print('b', b, sep='\\n')\n",
        "print('c', c, sep='\\n')\n",
        "\n",
        "print('\\n a + b', a + b, sep='\\n')\n",
        "print('\\n a + c', a + c, sep='\\n')\n",
        "\n",
        "\n",
        " #    2.2 행렬의 차원의 짝이 맞는 경우(1*2, 2*1)\n",
        "\n",
        "a = np.arange(1,3).reshape(1,2) # 행렬 (1x2)\n",
        "b = np.arange(1,3).reshape(2,1) # 행렬 (2x1)\n",
        "\n",
        "print('a', a, sep='\\n')\n",
        "print('b', b, sep='\\n')\n",
        "\n",
        "print('\\n a + b', a + b, sep='\\n')\n",
        ""
      ],
      "metadata": {
        "colab": {
          "base_uri": "https://localhost:8080/"
        },
        "id": "B2jMfHeapu3c",
        "outputId": "41d2a443-6c75-4a4a-d526-a320893711a5"
      },
      "execution_count": 25,
      "outputs": [
        {
          "output_type": "stream",
          "name": "stdout",
          "text": [
            "a : \n",
            "[1 2 3 4]\n",
            "\n",
            "b : \n",
            "[1 2]\n",
            "a\n",
            "[[1 2 3]\n",
            " [4 5 6]]\n",
            "\n",
            " a + 1\n",
            "[[2 3 4]\n",
            " [5 6 7]]\n",
            "a\n",
            "[[1 2 3]\n",
            " [4 5 6]]\n",
            "b\n",
            "[[1 2 3]]\n",
            "c\n",
            "[[1]\n",
            " [2]]\n",
            "\n",
            " a + b\n",
            "[[2 4 6]\n",
            " [5 7 9]]\n",
            "\n",
            " a + c\n",
            "[[2 3 4]\n",
            " [6 7 8]]\n",
            "a\n",
            "[[1 2]]\n",
            "b\n",
            "[[1]\n",
            " [2]]\n",
            "\n",
            " a + b\n",
            "[[2 3]\n",
            " [3 4]]\n"
          ]
        }
      ]
    }
  ]
}