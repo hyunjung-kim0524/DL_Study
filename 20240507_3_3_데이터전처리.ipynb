{
  "nbformat": 4,
  "nbformat_minor": 0,
  "metadata": {
    "colab": {
      "provenance": [],
      "authorship_tag": "ABX9TyNZ7KAS7tojEKPudnAKWjwp",
      "include_colab_link": true
    },
    "kernelspec": {
      "name": "python3",
      "display_name": "Python 3"
    },
    "language_info": {
      "name": "python"
    }
  },
  "cells": [
    {
      "cell_type": "markdown",
      "metadata": {
        "id": "view-in-github",
        "colab_type": "text"
      },
      "source": [
        "<a href=\"https://colab.research.google.com/github/hyunjung-kim0524/DL_Study/blob/main/20240507_3_3_%EB%8D%B0%EC%9D%B4%ED%84%B0%EC%A0%84%EC%B2%98%EB%A6%AC.ipynb\" target=\"_parent\"><img src=\"https://colab.research.google.com/assets/colab-badge.svg\" alt=\"Open In Colab\"/></a>"
      ]
    },
    {
      "cell_type": "code",
      "source": [
        "from google.colab import drive\n",
        "drive.mount('/content/drive')"
      ],
      "metadata": {
        "colab": {
          "base_uri": "https://localhost:8080/"
        },
        "id": "kzvJwZ07ZdLI",
        "outputId": "cdf4c265-4900-4ce7-9f06-c71e414990b2"
      },
      "execution_count": 29,
      "outputs": [
        {
          "output_type": "stream",
          "name": "stdout",
          "text": [
            "Mounted at /content/drive\n"
          ]
        }
      ]
    },
    {
      "cell_type": "markdown",
      "source": [
        "수치형 피처 정규화하기"
      ],
      "metadata": {
        "id": "LC6ABXxMuwIt"
      }
    },
    {
      "cell_type": "code",
      "source": [
        "import pandas as pd\n",
        "\n",
        "file_url = \"https://storage.googleapis.com/download.tensorflow.org/data/heart.csv\"\n",
        "heart_df = pd.read_csv(file_url)\n",
        "\n",
        "#heart_df.head()\n",
        "heart_df.info()"
      ],
      "metadata": {
        "colab": {
          "base_uri": "https://localhost:8080/"
        },
        "id": "8xxjMfG4vJzx",
        "outputId": "61e79abe-4160-4d65-be6a-869c456f421a"
      },
      "execution_count": 1,
      "outputs": [
        {
          "output_type": "stream",
          "name": "stdout",
          "text": [
            "<class 'pandas.core.frame.DataFrame'>\n",
            "RangeIndex: 303 entries, 0 to 302\n",
            "Data columns (total 14 columns):\n",
            " #   Column    Non-Null Count  Dtype  \n",
            "---  ------    --------------  -----  \n",
            " 0   age       303 non-null    int64  \n",
            " 1   sex       303 non-null    int64  \n",
            " 2   cp        303 non-null    int64  \n",
            " 3   trestbps  303 non-null    int64  \n",
            " 4   chol      303 non-null    int64  \n",
            " 5   fbs       303 non-null    int64  \n",
            " 6   restecg   303 non-null    int64  \n",
            " 7   thalach   303 non-null    int64  \n",
            " 8   exang     303 non-null    int64  \n",
            " 9   oldpeak   303 non-null    float64\n",
            " 10  slope     303 non-null    int64  \n",
            " 11  ca        303 non-null    int64  \n",
            " 12  thal      303 non-null    object \n",
            " 13  target    303 non-null    int64  \n",
            "dtypes: float64(1), int64(12), object(1)\n",
            "memory usage: 33.3+ KB\n"
          ]
        }
      ]
    },
    {
      "cell_type": "code",
      "source": [
        "from tensorflow.keras.layers.experimental.preprocessing import Normalization\n",
        "\n",
        "cols = ['age','trestbps','chol','thalach','oldpeak','slope']\n",
        "df = heart_df[cols].to_numpy()\n",
        "\n",
        "layer = Normalization()  # Normalization() : 정규화 함수\n",
        "layer.adapt(df)   # 데이터 집랍 분석\n",
        "layer_df = layer(df)\n",
        "\n",
        "print(\"features mean : %.1f\" %(layer_df.numpy().mean()))\n",
        "print(\"features std : %.1f\" %(layer_df.numpy().std()))"
      ],
      "metadata": {
        "colab": {
          "base_uri": "https://localhost:8080/"
        },
        "id": "cCBqIche1okJ",
        "outputId": "16b4c453-a591-4635-a50a-dcf641163ec1"
      },
      "execution_count": 2,
      "outputs": [
        {
          "output_type": "stream",
          "name": "stdout",
          "text": [
            "features mean : -0.0\n",
            "features std : 1.0\n"
          ]
        }
      ]
    },
    {
      "cell_type": "code",
      "source": [
        "heart_df[cols]\n",
        "pd.DataFrame(layer_df.numpy(), columns=cols)"
      ],
      "metadata": {
        "colab": {
          "base_uri": "https://localhost:8080/",
          "height": 423
        },
        "id": "HCcfrILwN3Aq",
        "outputId": "09741c2d-a462-412a-f612-a9502a5433d5"
      },
      "execution_count": 3,
      "outputs": [
        {
          "output_type": "execute_result",
          "data": {
            "text/plain": [
              "          age  trestbps      chol   thalach   oldpeak     slope\n",
              "0    0.933839  0.745781 -0.260087  0.034807  1.068045  2.284959\n",
              "1    1.378211  1.592329  0.757388 -1.780617  0.380229  0.663548\n",
              "2    1.378211 -0.665132 -0.336877 -0.872905  1.325976  0.663548\n",
              "3   -1.954575 -0.100767  0.066273  1.634109  2.099770  2.284959\n",
              "4   -1.510204 -0.100767 -0.816818  0.985743  0.294252 -0.957863\n",
              "..        ...       ...       ...       ...       ...       ...\n",
              "298 -0.288182 -0.778005 -1.162375  1.763782 -0.909428  0.663548\n",
              "299 -1.288018  0.012106  1.813258 -0.570334  1.669885  0.663548\n",
              "300  1.156025  0.181416  0.143064 -0.959353  1.497931  0.663548\n",
              "301 -0.732554 -0.100767  0.181459  0.034807 -0.909428 -0.957863\n",
              "302  0.933839  1.027963  3.080301  0.207705  2.529656  0.663548\n",
              "\n",
              "[303 rows x 6 columns]"
            ],
            "text/html": [
              "\n",
              "  <div id=\"df-bb269cea-b5ca-49be-b6d5-5965c3f5f84b\" class=\"colab-df-container\">\n",
              "    <div>\n",
              "<style scoped>\n",
              "    .dataframe tbody tr th:only-of-type {\n",
              "        vertical-align: middle;\n",
              "    }\n",
              "\n",
              "    .dataframe tbody tr th {\n",
              "        vertical-align: top;\n",
              "    }\n",
              "\n",
              "    .dataframe thead th {\n",
              "        text-align: right;\n",
              "    }\n",
              "</style>\n",
              "<table border=\"1\" class=\"dataframe\">\n",
              "  <thead>\n",
              "    <tr style=\"text-align: right;\">\n",
              "      <th></th>\n",
              "      <th>age</th>\n",
              "      <th>trestbps</th>\n",
              "      <th>chol</th>\n",
              "      <th>thalach</th>\n",
              "      <th>oldpeak</th>\n",
              "      <th>slope</th>\n",
              "    </tr>\n",
              "  </thead>\n",
              "  <tbody>\n",
              "    <tr>\n",
              "      <th>0</th>\n",
              "      <td>0.933839</td>\n",
              "      <td>0.745781</td>\n",
              "      <td>-0.260087</td>\n",
              "      <td>0.034807</td>\n",
              "      <td>1.068045</td>\n",
              "      <td>2.284959</td>\n",
              "    </tr>\n",
              "    <tr>\n",
              "      <th>1</th>\n",
              "      <td>1.378211</td>\n",
              "      <td>1.592329</td>\n",
              "      <td>0.757388</td>\n",
              "      <td>-1.780617</td>\n",
              "      <td>0.380229</td>\n",
              "      <td>0.663548</td>\n",
              "    </tr>\n",
              "    <tr>\n",
              "      <th>2</th>\n",
              "      <td>1.378211</td>\n",
              "      <td>-0.665132</td>\n",
              "      <td>-0.336877</td>\n",
              "      <td>-0.872905</td>\n",
              "      <td>1.325976</td>\n",
              "      <td>0.663548</td>\n",
              "    </tr>\n",
              "    <tr>\n",
              "      <th>3</th>\n",
              "      <td>-1.954575</td>\n",
              "      <td>-0.100767</td>\n",
              "      <td>0.066273</td>\n",
              "      <td>1.634109</td>\n",
              "      <td>2.099770</td>\n",
              "      <td>2.284959</td>\n",
              "    </tr>\n",
              "    <tr>\n",
              "      <th>4</th>\n",
              "      <td>-1.510204</td>\n",
              "      <td>-0.100767</td>\n",
              "      <td>-0.816818</td>\n",
              "      <td>0.985743</td>\n",
              "      <td>0.294252</td>\n",
              "      <td>-0.957863</td>\n",
              "    </tr>\n",
              "    <tr>\n",
              "      <th>...</th>\n",
              "      <td>...</td>\n",
              "      <td>...</td>\n",
              "      <td>...</td>\n",
              "      <td>...</td>\n",
              "      <td>...</td>\n",
              "      <td>...</td>\n",
              "    </tr>\n",
              "    <tr>\n",
              "      <th>298</th>\n",
              "      <td>-0.288182</td>\n",
              "      <td>-0.778005</td>\n",
              "      <td>-1.162375</td>\n",
              "      <td>1.763782</td>\n",
              "      <td>-0.909428</td>\n",
              "      <td>0.663548</td>\n",
              "    </tr>\n",
              "    <tr>\n",
              "      <th>299</th>\n",
              "      <td>-1.288018</td>\n",
              "      <td>0.012106</td>\n",
              "      <td>1.813258</td>\n",
              "      <td>-0.570334</td>\n",
              "      <td>1.669885</td>\n",
              "      <td>0.663548</td>\n",
              "    </tr>\n",
              "    <tr>\n",
              "      <th>300</th>\n",
              "      <td>1.156025</td>\n",
              "      <td>0.181416</td>\n",
              "      <td>0.143064</td>\n",
              "      <td>-0.959353</td>\n",
              "      <td>1.497931</td>\n",
              "      <td>0.663548</td>\n",
              "    </tr>\n",
              "    <tr>\n",
              "      <th>301</th>\n",
              "      <td>-0.732554</td>\n",
              "      <td>-0.100767</td>\n",
              "      <td>0.181459</td>\n",
              "      <td>0.034807</td>\n",
              "      <td>-0.909428</td>\n",
              "      <td>-0.957863</td>\n",
              "    </tr>\n",
              "    <tr>\n",
              "      <th>302</th>\n",
              "      <td>0.933839</td>\n",
              "      <td>1.027963</td>\n",
              "      <td>3.080301</td>\n",
              "      <td>0.207705</td>\n",
              "      <td>2.529656</td>\n",
              "      <td>0.663548</td>\n",
              "    </tr>\n",
              "  </tbody>\n",
              "</table>\n",
              "<p>303 rows × 6 columns</p>\n",
              "</div>\n",
              "    <div class=\"colab-df-buttons\">\n",
              "\n",
              "  <div class=\"colab-df-container\">\n",
              "    <button class=\"colab-df-convert\" onclick=\"convertToInteractive('df-bb269cea-b5ca-49be-b6d5-5965c3f5f84b')\"\n",
              "            title=\"Convert this dataframe to an interactive table.\"\n",
              "            style=\"display:none;\">\n",
              "\n",
              "  <svg xmlns=\"http://www.w3.org/2000/svg\" height=\"24px\" viewBox=\"0 -960 960 960\">\n",
              "    <path d=\"M120-120v-720h720v720H120Zm60-500h600v-160H180v160Zm220 220h160v-160H400v160Zm0 220h160v-160H400v160ZM180-400h160v-160H180v160Zm440 0h160v-160H620v160ZM180-180h160v-160H180v160Zm440 0h160v-160H620v160Z\"/>\n",
              "  </svg>\n",
              "    </button>\n",
              "\n",
              "  <style>\n",
              "    .colab-df-container {\n",
              "      display:flex;\n",
              "      gap: 12px;\n",
              "    }\n",
              "\n",
              "    .colab-df-convert {\n",
              "      background-color: #E8F0FE;\n",
              "      border: none;\n",
              "      border-radius: 50%;\n",
              "      cursor: pointer;\n",
              "      display: none;\n",
              "      fill: #1967D2;\n",
              "      height: 32px;\n",
              "      padding: 0 0 0 0;\n",
              "      width: 32px;\n",
              "    }\n",
              "\n",
              "    .colab-df-convert:hover {\n",
              "      background-color: #E2EBFA;\n",
              "      box-shadow: 0px 1px 2px rgba(60, 64, 67, 0.3), 0px 1px 3px 1px rgba(60, 64, 67, 0.15);\n",
              "      fill: #174EA6;\n",
              "    }\n",
              "\n",
              "    .colab-df-buttons div {\n",
              "      margin-bottom: 4px;\n",
              "    }\n",
              "\n",
              "    [theme=dark] .colab-df-convert {\n",
              "      background-color: #3B4455;\n",
              "      fill: #D2E3FC;\n",
              "    }\n",
              "\n",
              "    [theme=dark] .colab-df-convert:hover {\n",
              "      background-color: #434B5C;\n",
              "      box-shadow: 0px 1px 3px 1px rgba(0, 0, 0, 0.15);\n",
              "      filter: drop-shadow(0px 1px 2px rgba(0, 0, 0, 0.3));\n",
              "      fill: #FFFFFF;\n",
              "    }\n",
              "  </style>\n",
              "\n",
              "    <script>\n",
              "      const buttonEl =\n",
              "        document.querySelector('#df-bb269cea-b5ca-49be-b6d5-5965c3f5f84b button.colab-df-convert');\n",
              "      buttonEl.style.display =\n",
              "        google.colab.kernel.accessAllowed ? 'block' : 'none';\n",
              "\n",
              "      async function convertToInteractive(key) {\n",
              "        const element = document.querySelector('#df-bb269cea-b5ca-49be-b6d5-5965c3f5f84b');\n",
              "        const dataTable =\n",
              "          await google.colab.kernel.invokeFunction('convertToInteractive',\n",
              "                                                    [key], {});\n",
              "        if (!dataTable) return;\n",
              "\n",
              "        const docLinkHtml = 'Like what you see? Visit the ' +\n",
              "          '<a target=\"_blank\" href=https://colab.research.google.com/notebooks/data_table.ipynb>data table notebook</a>'\n",
              "          + ' to learn more about interactive tables.';\n",
              "        element.innerHTML = '';\n",
              "        dataTable['output_type'] = 'display_data';\n",
              "        await google.colab.output.renderOutput(dataTable, element);\n",
              "        const docLink = document.createElement('div');\n",
              "        docLink.innerHTML = docLinkHtml;\n",
              "        element.appendChild(docLink);\n",
              "      }\n",
              "    </script>\n",
              "  </div>\n",
              "\n",
              "\n",
              "<div id=\"df-d607c2ac-6b8c-432d-bd60-95f92750b626\">\n",
              "  <button class=\"colab-df-quickchart\" onclick=\"quickchart('df-d607c2ac-6b8c-432d-bd60-95f92750b626')\"\n",
              "            title=\"Suggest charts\"\n",
              "            style=\"display:none;\">\n",
              "\n",
              "<svg xmlns=\"http://www.w3.org/2000/svg\" height=\"24px\"viewBox=\"0 0 24 24\"\n",
              "     width=\"24px\">\n",
              "    <g>\n",
              "        <path d=\"M19 3H5c-1.1 0-2 .9-2 2v14c0 1.1.9 2 2 2h14c1.1 0 2-.9 2-2V5c0-1.1-.9-2-2-2zM9 17H7v-7h2v7zm4 0h-2V7h2v10zm4 0h-2v-4h2v4z\"/>\n",
              "    </g>\n",
              "</svg>\n",
              "  </button>\n",
              "\n",
              "<style>\n",
              "  .colab-df-quickchart {\n",
              "      --bg-color: #E8F0FE;\n",
              "      --fill-color: #1967D2;\n",
              "      --hover-bg-color: #E2EBFA;\n",
              "      --hover-fill-color: #174EA6;\n",
              "      --disabled-fill-color: #AAA;\n",
              "      --disabled-bg-color: #DDD;\n",
              "  }\n",
              "\n",
              "  [theme=dark] .colab-df-quickchart {\n",
              "      --bg-color: #3B4455;\n",
              "      --fill-color: #D2E3FC;\n",
              "      --hover-bg-color: #434B5C;\n",
              "      --hover-fill-color: #FFFFFF;\n",
              "      --disabled-bg-color: #3B4455;\n",
              "      --disabled-fill-color: #666;\n",
              "  }\n",
              "\n",
              "  .colab-df-quickchart {\n",
              "    background-color: var(--bg-color);\n",
              "    border: none;\n",
              "    border-radius: 50%;\n",
              "    cursor: pointer;\n",
              "    display: none;\n",
              "    fill: var(--fill-color);\n",
              "    height: 32px;\n",
              "    padding: 0;\n",
              "    width: 32px;\n",
              "  }\n",
              "\n",
              "  .colab-df-quickchart:hover {\n",
              "    background-color: var(--hover-bg-color);\n",
              "    box-shadow: 0 1px 2px rgba(60, 64, 67, 0.3), 0 1px 3px 1px rgba(60, 64, 67, 0.15);\n",
              "    fill: var(--button-hover-fill-color);\n",
              "  }\n",
              "\n",
              "  .colab-df-quickchart-complete:disabled,\n",
              "  .colab-df-quickchart-complete:disabled:hover {\n",
              "    background-color: var(--disabled-bg-color);\n",
              "    fill: var(--disabled-fill-color);\n",
              "    box-shadow: none;\n",
              "  }\n",
              "\n",
              "  .colab-df-spinner {\n",
              "    border: 2px solid var(--fill-color);\n",
              "    border-color: transparent;\n",
              "    border-bottom-color: var(--fill-color);\n",
              "    animation:\n",
              "      spin 1s steps(1) infinite;\n",
              "  }\n",
              "\n",
              "  @keyframes spin {\n",
              "    0% {\n",
              "      border-color: transparent;\n",
              "      border-bottom-color: var(--fill-color);\n",
              "      border-left-color: var(--fill-color);\n",
              "    }\n",
              "    20% {\n",
              "      border-color: transparent;\n",
              "      border-left-color: var(--fill-color);\n",
              "      border-top-color: var(--fill-color);\n",
              "    }\n",
              "    30% {\n",
              "      border-color: transparent;\n",
              "      border-left-color: var(--fill-color);\n",
              "      border-top-color: var(--fill-color);\n",
              "      border-right-color: var(--fill-color);\n",
              "    }\n",
              "    40% {\n",
              "      border-color: transparent;\n",
              "      border-right-color: var(--fill-color);\n",
              "      border-top-color: var(--fill-color);\n",
              "    }\n",
              "    60% {\n",
              "      border-color: transparent;\n",
              "      border-right-color: var(--fill-color);\n",
              "    }\n",
              "    80% {\n",
              "      border-color: transparent;\n",
              "      border-right-color: var(--fill-color);\n",
              "      border-bottom-color: var(--fill-color);\n",
              "    }\n",
              "    90% {\n",
              "      border-color: transparent;\n",
              "      border-bottom-color: var(--fill-color);\n",
              "    }\n",
              "  }\n",
              "</style>\n",
              "\n",
              "  <script>\n",
              "    async function quickchart(key) {\n",
              "      const quickchartButtonEl =\n",
              "        document.querySelector('#' + key + ' button');\n",
              "      quickchartButtonEl.disabled = true;  // To prevent multiple clicks.\n",
              "      quickchartButtonEl.classList.add('colab-df-spinner');\n",
              "      try {\n",
              "        const charts = await google.colab.kernel.invokeFunction(\n",
              "            'suggestCharts', [key], {});\n",
              "      } catch (error) {\n",
              "        console.error('Error during call to suggestCharts:', error);\n",
              "      }\n",
              "      quickchartButtonEl.classList.remove('colab-df-spinner');\n",
              "      quickchartButtonEl.classList.add('colab-df-quickchart-complete');\n",
              "    }\n",
              "    (() => {\n",
              "      let quickchartButtonEl =\n",
              "        document.querySelector('#df-d607c2ac-6b8c-432d-bd60-95f92750b626 button');\n",
              "      quickchartButtonEl.style.display =\n",
              "        google.colab.kernel.accessAllowed ? 'block' : 'none';\n",
              "    })();\n",
              "  </script>\n",
              "</div>\n",
              "\n",
              "    </div>\n",
              "  </div>\n"
            ],
            "application/vnd.google.colaboratory.intrinsic+json": {
              "type": "dataframe",
              "summary": "{\n  \"name\": \"pd\",\n  \"rows\": 303,\n  \"fields\": [\n    {\n      \"column\": \"age\",\n      \"properties\": {\n        \"dtype\": \"float32\",\n        \"num_unique_values\": 41,\n        \"samples\": [\n          0.7116534113883972,\n          1.0449320077896118,\n          -1.1769250631332397\n        ],\n        \"semantic_type\": \"\",\n        \"description\": \"\"\n      }\n    },\n    {\n      \"column\": \"trestbps\",\n      \"properties\": {\n        \"dtype\": \"float32\",\n        \"num_unique_values\": 50,\n        \"samples\": [\n          -1.568116307258606,\n          3.398297071456909,\n          -0.7780051231384277\n        ],\n        \"semantic_type\": \"\",\n        \"description\": \"\"\n      }\n    },\n    {\n      \"column\": \"chol\",\n      \"properties\": {\n        \"dtype\": \"float32\",\n        \"num_unique_values\": 152,\n        \"samples\": [\n          0.27744704484939575,\n          -1.2391659021377563,\n          1.3141192197799683\n        ],\n        \"semantic_type\": \"\",\n        \"description\": \"\"\n      }\n    },\n    {\n      \"column\": \"thalach\",\n      \"properties\": {\n        \"dtype\": \"float32\",\n        \"num_unique_values\": 91,\n        \"samples\": [\n          1.1154165267944336,\n          -1.5212702751159668,\n          1.5044358968734741\n        ],\n        \"semantic_type\": \"\",\n        \"description\": \"\"\n      }\n    },\n    {\n      \"column\": \"oldpeak\",\n      \"properties\": {\n        \"dtype\": \"float32\",\n        \"num_unique_values\": 40,\n        \"samples\": [\n          1.154022455215454,\n          -0.7374734878540039,\n          0.12229743599891663\n        ],\n        \"semantic_type\": \"\",\n        \"description\": \"\"\n      }\n    },\n    {\n      \"column\": \"slope\",\n      \"properties\": {\n        \"dtype\": \"float32\",\n        \"num_unique_values\": 3,\n        \"samples\": [\n          2.284958600997925,\n          0.663547694683075,\n          -0.9578630924224854\n        ],\n        \"semantic_type\": \"\",\n        \"description\": \"\"\n      }\n    }\n  ]\n}"
            }
          },
          "metadata": {},
          "execution_count": 3
        }
      ]
    },
    {
      "cell_type": "markdown",
      "source": [
        "문자 범주형 피처 인코딩"
      ],
      "metadata": {
        "id": "qNt1vME4OQEo"
      }
    },
    {
      "cell_type": "code",
      "source": [
        "heart_df['thal'].value_counts()"
      ],
      "metadata": {
        "colab": {
          "base_uri": "https://localhost:8080/"
        },
        "id": "Z5UVAXzMOTmt",
        "outputId": "b7f3962f-a133-48c8-e23a-07d81d094b8f"
      },
      "execution_count": 4,
      "outputs": [
        {
          "output_type": "execute_result",
          "data": {
            "text/plain": [
              "thal\n",
              "normal        168\n",
              "reversible    115\n",
              "fixed          18\n",
              "1               1\n",
              "2               1\n",
              "Name: count, dtype: int64"
            ]
          },
          "metadata": {},
          "execution_count": 4
        }
      ]
    },
    {
      "cell_type": "code",
      "source": [
        "heart_df['thal'][:10]"
      ],
      "metadata": {
        "colab": {
          "base_uri": "https://localhost:8080/"
        },
        "id": "Z52_WcDwTDPz",
        "outputId": "7c120f77-c2af-49c2-d223-36c0fb098ccf"
      },
      "execution_count": 5,
      "outputs": [
        {
          "output_type": "execute_result",
          "data": {
            "text/plain": [
              "0         fixed\n",
              "1        normal\n",
              "2    reversible\n",
              "3        normal\n",
              "4        normal\n",
              "5        normal\n",
              "6        normal\n",
              "7        normal\n",
              "8    reversible\n",
              "9    reversible\n",
              "Name: thal, dtype: object"
            ]
          },
          "metadata": {},
          "execution_count": 5
        }
      ]
    },
    {
      "cell_type": "code",
      "source": [
        "from tensorflow.keras.layers.experimental.preprocessing import StringLookup\n",
        "from tensorflow.keras.layers.experimental.preprocessing import CategoryEncoding\n",
        "\n",
        "df = heart_df['thal'].to_numpy()\n",
        "\n",
        "layer1 = StringLookup()  # 문자값을 정수 인덱스로 매핑\n",
        "layer1.adapt(df)\n",
        "\n",
        "layer2 = CategoryEncoding(num_tokens=6, output_mode=\"one_hot\")  # 정수 인덱스로 매핑된 값을 정수 범주형 특성을 encoding\n",
        "layer2_df = layer2(layer1(df))\n",
        "\n",
        "print(type(layer2_df))\n",
        "print(layer2_df[:10])"
      ],
      "metadata": {
        "colab": {
          "base_uri": "https://localhost:8080/"
        },
        "id": "FgFTDnJcTwqb",
        "outputId": "01408d0b-6728-42e0-ac12-c38e30234170"
      },
      "execution_count": 6,
      "outputs": [
        {
          "output_type": "stream",
          "name": "stdout",
          "text": [
            "<class 'tensorflow.python.framework.ops.EagerTensor'>\n",
            "tf.Tensor(\n",
            "[[0. 0. 0. 1. 0. 0.]\n",
            " [0. 1. 0. 0. 0. 0.]\n",
            " [0. 0. 1. 0. 0. 0.]\n",
            " [0. 1. 0. 0. 0. 0.]\n",
            " [0. 1. 0. 0. 0. 0.]\n",
            " [0. 1. 0. 0. 0. 0.]\n",
            " [0. 1. 0. 0. 0. 0.]\n",
            " [0. 1. 0. 0. 0. 0.]\n",
            " [0. 0. 1. 0. 0. 0.]\n",
            " [0. 0. 1. 0. 0. 0.]], shape=(10, 6), dtype=float32)\n"
          ]
        }
      ]
    },
    {
      "cell_type": "markdown",
      "source": [
        "정수 범주형 피처 인코딩하기"
      ],
      "metadata": {
        "id": "MWEtU16QULu5"
      }
    },
    {
      "cell_type": "code",
      "source": [
        "heart_df['fbs'].value_counts()\n",
        "heart_df['fbs'][:10]"
      ],
      "metadata": {
        "colab": {
          "base_uri": "https://localhost:8080/"
        },
        "id": "3hoHrNXZR4EP",
        "outputId": "cdc18c8a-f35b-4584-d5dd-a537c6f154d2"
      },
      "execution_count": 9,
      "outputs": [
        {
          "output_type": "execute_result",
          "data": {
            "text/plain": [
              "0    1\n",
              "1    0\n",
              "2    0\n",
              "3    0\n",
              "4    0\n",
              "5    0\n",
              "6    0\n",
              "7    0\n",
              "8    0\n",
              "9    1\n",
              "Name: fbs, dtype: int64"
            ]
          },
          "metadata": {},
          "execution_count": 9
        }
      ]
    },
    {
      "cell_type": "code",
      "source": [
        "import tensorflow as tf\n",
        "from tensorflow.keras.layers.experimental import preprocessing\n",
        "\n",
        "df = heart_df['fbs'].to_numpy()\n",
        "\n",
        "layer1 = preprocessing.IntegerLookup()  # 정수 범주형 데이터 값을 정수 인덱스로 매핑\n",
        "layer1.adapt(df)\n",
        "\n",
        "layer2 = preprocessing.CategoryEncoding(num_tokens=3, output_mode=\"one_hot\")\n",
        "layer2_df = layer2(layer1(df))\n",
        "\n",
        "print(type(layer2_df))\n",
        "print(layer2_df[:10])"
      ],
      "metadata": {
        "colab": {
          "base_uri": "https://localhost:8080/"
        },
        "id": "JYHHcCJCSiRU",
        "outputId": "c72958d4-0240-4e3e-bd44-d4942ec080f0"
      },
      "execution_count": 16,
      "outputs": [
        {
          "output_type": "stream",
          "name": "stdout",
          "text": [
            "<class 'tensorflow.python.framework.ops.EagerTensor'>\n",
            "tf.Tensor(\n",
            "[[0. 0. 1.]\n",
            " [0. 1. 0.]\n",
            " [0. 1. 0.]\n",
            " [0. 1. 0.]\n",
            " [0. 1. 0.]\n",
            " [0. 1. 0.]\n",
            " [0. 1. 0.]\n",
            " [0. 1. 0.]\n",
            " [0. 1. 0.]\n",
            " [0. 0. 1.]], shape=(10, 3), dtype=float32)\n"
          ]
        }
      ]
    },
    {
      "cell_type": "markdown",
      "source": [
        "수치형 피처 인코딩"
      ],
      "metadata": {
        "id": "iY0_JRduUkWN"
      }
    },
    {
      "cell_type": "code",
      "source": [
        "heart_df['age'].value_counts().count()\n",
        "heart_df['age'][:10]"
      ],
      "metadata": {
        "colab": {
          "base_uri": "https://localhost:8080/"
        },
        "id": "CsyZ2W74Umwj",
        "outputId": "24555f3c-c234-4cd5-ba1f-de8e3281b51c"
      },
      "execution_count": 18,
      "outputs": [
        {
          "output_type": "execute_result",
          "data": {
            "text/plain": [
              "0    63\n",
              "1    67\n",
              "2    67\n",
              "3    37\n",
              "4    41\n",
              "5    56\n",
              "6    62\n",
              "7    57\n",
              "8    63\n",
              "9    53\n",
              "Name: age, dtype: int64"
            ]
          },
          "metadata": {},
          "execution_count": 18
        }
      ]
    },
    {
      "cell_type": "code",
      "source": [
        "import tensorflow as tf\n",
        "from tensorflow.keras.layers.experimental import preprocessing\n",
        "\n",
        "df = heart_df['age'].to_numpy()\n",
        "\n",
        "layer1 = preprocessing.Hashing(num_bins=16) # 여러개의 피처수를 특성을 유지하는 피처수로 줄여줌\n",
        "\n",
        "layer2 = preprocessing.CategoryEncoding(num_tokens=16, output_mode = \"one_hot\")\n",
        "layer2_df = layer2(layer1(df))\n",
        "\n",
        "\n",
        "print(layer2_df[:10])"
      ],
      "metadata": {
        "colab": {
          "base_uri": "https://localhost:8080/"
        },
        "id": "R32GjTZxVlAr",
        "outputId": "8163d3a0-8da2-43a7-c1fc-31ed4ef28646"
      },
      "execution_count": 19,
      "outputs": [
        {
          "output_type": "stream",
          "name": "stdout",
          "text": [
            "tf.Tensor(\n",
            "[[0. 0. 0. 0. 0. 0. 1. 0. 0. 0. 0. 0. 0. 0. 0. 0.]\n",
            " [0. 0. 0. 0. 0. 0. 0. 0. 0. 0. 0. 0. 0. 0. 0. 1.]\n",
            " [0. 0. 0. 0. 0. 0. 0. 0. 0. 0. 0. 0. 0. 0. 0. 1.]\n",
            " [0. 0. 0. 1. 0. 0. 0. 0. 0. 0. 0. 0. 0. 0. 0. 0.]\n",
            " [0. 0. 0. 0. 0. 0. 1. 0. 0. 0. 0. 0. 0. 0. 0. 0.]\n",
            " [0. 0. 0. 0. 0. 0. 0. 0. 0. 0. 0. 0. 0. 0. 1. 0.]\n",
            " [0. 0. 0. 0. 0. 1. 0. 0. 0. 0. 0. 0. 0. 0. 0. 0.]\n",
            " [0. 0. 0. 0. 0. 0. 0. 0. 0. 0. 0. 1. 0. 0. 0. 0.]\n",
            " [0. 0. 0. 0. 0. 0. 1. 0. 0. 0. 0. 0. 0. 0. 0. 0.]\n",
            " [0. 0. 1. 0. 0. 0. 0. 0. 0. 0. 0. 0. 0. 0. 0. 0.]], shape=(10, 16), dtype=float32)\n"
          ]
        }
      ]
    },
    {
      "cell_type": "markdown",
      "source": [
        "토큰 인덱스로 자연어 인코딩하기"
      ],
      "metadata": {
        "id": "kjFs-bpDXLNe"
      }
    },
    {
      "cell_type": "code",
      "source": [
        "from tensorflow.keras.preprocessing import text_dataset_from_directory\n",
        "\n",
        "!curl -O https://ai.stanford.edu/~amaas/data/sentiment/aclImdb_v1.tar.gz\n",
        "!tar -xf aclImdb_v1.tar.gz\n",
        "\n",
        "aclImdb_ds = text_dataset_from_directory(\n",
        "    directory = \"/content/aclImdb/train\",\n",
        "    labels = \"inferred\",\n",
        "    batch_size = 32,\n",
        "    seed = 0\n",
        ")"
      ],
      "metadata": {
        "colab": {
          "base_uri": "https://localhost:8080/"
        },
        "id": "GSqEpDHtXwOp",
        "outputId": "82479c5d-4364-4213-af13-4961ef56536f"
      },
      "execution_count": 31,
      "outputs": [
        {
          "output_type": "stream",
          "name": "stdout",
          "text": [
            "  % Total    % Received % Xferd  Average Speed   Time    Time     Time  Current\n",
            "                                 Dload  Upload   Total   Spent    Left  Speed\n",
            "100 80.2M  100 80.2M    0     0  5138k      0  0:00:15  0:00:15 --:--:-- 8946k\n",
            "Found 75000 files belonging to 3 classes.\n"
          ]
        }
      ]
    },
    {
      "cell_type": "code",
      "source": [
        "for text, label in aclImdb_ds.take(1):\n",
        "  for i in range(1):\n",
        "    print(text.numpy()[i])\n",
        "    print(label.numpy()[i])\n"
      ],
      "metadata": {
        "colab": {
          "base_uri": "https://localhost:8080/"
        },
        "id": "WqlxR_Rakhhv",
        "outputId": "0ee5d1da-0bdb-4b73-9cbe-e9bf502c7274"
      },
      "execution_count": 35,
      "outputs": [
        {
          "output_type": "stream",
          "name": "stdout",
          "text": [
            "b\"Super Dimensional Fortress Macross: Do You Remember Love? Ah, what a name and what a movie. This is what classic Japanese Animation is all about. Just the name itself conjures up nostalgic memories of yesterday, running home from fourth grade to catch the latest episode of Robotech, to attending my first Anime convention and realizing the true power of the unedited series as well as this incredible film which retells the story. The music, the characters, the animation and the story are the very things that attracted me to Japanese animation in the first place. And still, even after all of these years, SDFM:DYRL not only holds up, but is still a force to be reckoned with.<br /><br />This is due, in no small part, to the creative talent and storytelling capabilities of Shoji Kawamori. Although his filmography may be small, it is an example of quality over quantity. Kawamori's Macross series made giant transforming robots, singing pop-idol young starlets, heroic floppy haired boys, and melodramatic drama popular to thousands of fans across the globe. Who in their right mind never dreamed of someday flying a Valkyrie, or meeting a girl as spunky and hot as Lynn Minmay or as gorgeous and smart as Misa Hayase? Or who never wished that their hair were as cool as Max's blue locks or Hikaru's tangled mop? And who never wished for the experiences and friendships shared by the Defense Force as they battled the onslaught of the Zentradi forces? Without Kawamori, none of these questions would have ever even been possible. To me, this is like trying to imagine a childhood without Star Wars.<br /><br />SDFM:DYRL is at it's core, a story of an alien invasion. The Zentradi, a race of aliens created for only war are hell-bent on tracking down a lost ship, the Macross, which is the key to the universal power of Protoculture. Protoculture is the universal matter from which all things were created and it gives life to those who have it. The Zentradi track down this lost ship, which has landed on Earth. The humans of Earth learn, to a somewhat limited degree, the power of the Macross, and are able to escape with a few hundred survivors to the outer reaches of space, thus setting in motion the constant game of cat and mouse between the Zentradi and the humans. Although this story is quite basic on the surface, what really set Macross apart from the other giant-invading-robot movies/series was the investment the audience had in the characters.<br /><br />The animation itself is quite beautiful, although it may seem somewhat primitive by today's digital standards. It is, however, a great example of how Japanese animation differs from its Western counterparts. While Western animation, especially concerning studios such as Disney and Warner Bros., put more energy into creating smooth animated movement, the Japanese directors and artists have always been more interested in creating insanely detailed drawings. Some Japanese directors have claimed that Japanese animation is actually more of a mix between the detailed still drawings of manga and the fluidity of traditional Western animation, thus it is an art form in and of itself being neither comic book nor cartoon. Macross is a perfect example of this ideology. Although the animation may not be extremely fluid, what we are given are vastly detailed cityscapes, landscapes and space frontiers, as well as mechanical and character designs to die for.<br /><br />And how can I possibly even mention the word Macross without at least a brief mention of the music? Kentaro Haneda, who created the original music, made sure that the score and songs were as captivating as the film itself, as well as making sure every note of every song fit perfectly with what was being shown on screen. After all, with music playing such an intricate roll in the entire Macross saga, the music really needed to be top notch \\xc2\\x96 and it was.<br /><br />SDFM:DYRL is a classic in every sense of the word. A movie that is just as good today as it was almost 20 years ago. Some films do not live up to the memories we have of them, and as we get older some films lose their power. SDFM:DYRL on the other hand, becomes a beacon of light to remind us of the reasons we fell in love with Japanese films in the first place.\"\n",
            "2\n"
          ]
        }
      ]
    },
    {
      "cell_type": "code",
      "source": [
        "import tensorflow as tf\n",
        "from tensorflow.keras.layers.experimental import preprocessing\n",
        "\n",
        "layer1 = preprocessing.TextVectorization()  # 자연어를 Enbedding, Dense층에서 읽을 수 있도록 인코딩 해줌\n",
        "layer1.adapt(aclImdb_ds.map(lambda text, label: text))\n",
        "layer1_df = layer1(['Playing from Time'])\n",
        "\n",
        "print(type(layer1_df))\n",
        "print(layer1_df)"
      ],
      "metadata": {
        "colab": {
          "base_uri": "https://localhost:8080/"
        },
        "id": "QyGTQcbWlpF7",
        "outputId": "91b4cba5-53ad-4c50-c427-d502c364703c"
      },
      "execution_count": 36,
      "outputs": [
        {
          "output_type": "stream",
          "name": "stdout",
          "text": [
            "<class 'tensorflow.python.framework.ops.EagerTensor'>\n",
            "tf.Tensor([[382  36  62]], shape=(1, 3), dtype=int64)\n"
          ]
        }
      ]
    },
    {
      "cell_type": "code",
      "source": [
        "import numpy as np\n",
        "\n",
        "vocab = np.array(layer1.get_vocabulary())\n",
        "vocab[10:40]"
      ],
      "metadata": {
        "colab": {
          "base_uri": "https://localhost:8080/"
        },
        "id": "KKYlGPpDnoxp",
        "outputId": "024a50fa-b11b-4be9-a620-45c28fdfacc8"
      },
      "execution_count": 39,
      "outputs": [
        {
          "output_type": "execute_result",
          "data": {
            "text/plain": [
              "array(['this', 'i', 'that', 'br', 'was', 'as', 'with', 'for', 'movie',\n",
              "       'but', 'film', 'on', 'not', 'you', 'are', 'his', 'have', 'be',\n",
              "       'he', 'one', 'its', 'at', 'all', 'by', 'an', 'they', 'from', 'who',\n",
              "       'so', 'like'], dtype='<U77')"
            ]
          },
          "metadata": {},
          "execution_count": 39
        }
      ]
    }
  ]
}