{
  "nbformat": 4,
  "nbformat_minor": 0,
  "metadata": {
    "colab": {
      "provenance": [],
      "authorship_tag": "ABX9TyMCFHRQwgjAZHywTAveXopK",
      "include_colab_link": true
    },
    "kernelspec": {
      "name": "python3",
      "display_name": "Python 3"
    },
    "language_info": {
      "name": "python"
    }
  },
  "cells": [
    {
      "cell_type": "markdown",
      "metadata": {
        "id": "view-in-github",
        "colab_type": "text"
      },
      "source": [
        "<a href=\"https://colab.research.google.com/github/hyunjung-kim0524/DL_Study/blob/main/20240508_3_4_%EB%AA%A8%EB%8D%B8_%EC%83%9D%EC%84%B1.ipynb\" target=\"_parent\"><img src=\"https://colab.research.google.com/assets/colab-badge.svg\" alt=\"Open In Colab\"/></a>"
      ]
    },
    {
      "cell_type": "markdown",
      "source": [
        "### 케라스에서 모델 생성 방법\n",
        "#### 1. 순차모델(Sequential Model)\n",
        "####    - 순차적인 층(Layers API)으로 구성돼 있고 하나의 입력층으로 시작해 하나의 출력층으로 끝내는 모델.\n",
        "####    - 빠른 실험과 검증이 필요한 경우에 사용\n",
        "#### 2. 함수형 API(Funcational API)\n",
        "####    - 프로덕션 황경에서 주로 사용함\n",
        "####    - 모델의 입출력을 함수의 형태로 구현하여 다양한 구조의 모델 구성 가능\n",
        "####      (예) 이미지와 자연어 데이터를 다중 입력받아 긍정과 부정을 출력하는 분류 모델 구성\n",
        "#### 3. 모델 서브클래싱(Model Subclassing)\n",
        "####    - 케라스의 모델 클래스를 상속받은 후 사용자가 세부적인 동작을 직접 수정해 구현할 수 있는 방법"
      ],
      "metadata": {
        "id": "KOR6dnFDoakw"
      }
    },
    {
      "cell_type": "markdown",
      "source": [
        "순차모델"
      ],
      "metadata": {
        "id": "-8Cn4pvYpDAl"
      }
    },
    {
      "cell_type": "code",
      "source": [
        "import tensorflow as tf\n",
        "from tensorflow.keras.models import Sequential\n",
        "from tensorflow.keras.layers import Dense\n",
        "\n",
        "model = Sequential([\n",
        "    Dense(32, activation = 'relu'),\n",
        "    Dense(16, activation = 'relu'),\n",
        "    Dense(10, activation = 'softmax')\n",
        "])"
      ],
      "metadata": {
        "id": "LniNn2CPqXSg"
      },
      "execution_count": null,
      "outputs": []
    },
    {
      "cell_type": "code",
      "source": [
        "from tensorflow.keras import Input\n",
        "\n",
        "model = Sequential()\n",
        "\n",
        "model.add(Input(shape=(28,28)))\n",
        "model.add(Dense(32, activation = 'relu', name = 'layer1'))\n",
        "model.add(Dense(16, activation = 'relu', name = 'layer2'))\n",
        "model.add(Dense(10, activation = 'softmax', name = 'layer3'))\n",
        "\n",
        "model.summary()"
      ],
      "metadata": {
        "colab": {
          "base_uri": "https://localhost:8080/"
        },
        "id": "sk6KmMfh4qXe",
        "outputId": "e24dd5fa-3a5c-4011-af7d-4c884422b6c6"
      },
      "execution_count": null,
      "outputs": [
        {
          "output_type": "stream",
          "name": "stdout",
          "text": [
            "Model: \"sequential_2\"\n",
            "_________________________________________________________________\n",
            " Layer (type)                Output Shape              Param #   \n",
            "=================================================================\n",
            " layer1 (Dense)              (None, 28, 32)            928       \n",
            "                                                                 \n",
            " layer2 (Dense)              (None, 28, 16)            528       \n",
            "                                                                 \n",
            " layer3 (Dense)              (None, 28, 10)            170       \n",
            "                                                                 \n",
            "=================================================================\n",
            "Total params: 1626 (6.35 KB)\n",
            "Trainable params: 1626 (6.35 KB)\n",
            "Non-trainable params: 0 (0.00 Byte)\n",
            "_________________________________________________________________\n"
          ]
        }
      ]
    },
    {
      "cell_type": "markdown",
      "source": [
        "함수형 API"
      ],
      "metadata": {
        "id": "fLLtFpGr5mPK"
      }
    },
    {
      "cell_type": "code",
      "source": [
        "from tensorflow.keras import Input, Model\n",
        "from tensorflow.keras.layers import Dense\n",
        "\n",
        "input = Input(shape=(784,))\n",
        "x=Dense(units = 32, activation = 'relu')(input)\n",
        "x=Dense(units = 16, activation = 'relu')(x)\n",
        "output = Dense(units = 10, activation = 'softmax')(x)\n",
        "\n",
        "model = Model(inputs = input, outputs = output, name = 'mnist')\n",
        "model.summary()"
      ],
      "metadata": {
        "id": "QISD1cpC5o-O",
        "colab": {
          "base_uri": "https://localhost:8080/"
        },
        "outputId": "181f3c84-c3d2-4821-e5fb-771711cc14df"
      },
      "execution_count": 2,
      "outputs": [
        {
          "output_type": "stream",
          "name": "stdout",
          "text": [
            "Model: \"mnist\"\n",
            "_________________________________________________________________\n",
            " Layer (type)                Output Shape              Param #   \n",
            "=================================================================\n",
            " input_2 (InputLayer)        [(None, 784)]             0         \n",
            "                                                                 \n",
            " dense_1 (Dense)             (None, 32)                25120     \n",
            "                                                                 \n",
            " dense_2 (Dense)             (None, 16)                528       \n",
            "                                                                 \n",
            " dense_3 (Dense)             (None, 10)                170       \n",
            "                                                                 \n",
            "=================================================================\n",
            "Total params: 25818 (100.85 KB)\n",
            "Trainable params: 25818 (100.85 KB)\n",
            "Non-trainable params: 0 (0.00 Byte)\n",
            "_________________________________________________________________\n"
          ]
        }
      ]
    },
    {
      "cell_type": "code",
      "source": [
        "from tensorflow.keras.utils import plot_model\n",
        "plot_model(model, \"mnist-model.png\", show_shapes = True)"
      ],
      "metadata": {
        "colab": {
          "base_uri": "https://localhost:8080/",
          "height": 422
        },
        "id": "5P6Lj7iDgH3a",
        "outputId": "90214ffd-644a-41da-d90a-3afae286ef8d"
      },
      "execution_count": 4,
      "outputs": [
        {
          "output_type": "execute_result",
          "data": {
            "image/png": "[encoded data removed]",
            "text/plain": [
              "<IPython.core.display.Image object>"
            ]
          },
          "metadata": {},
          "execution_count": 4
        }
      ]
    }
  ]
}